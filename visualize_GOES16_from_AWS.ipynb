{
 "cells": [
  {
   "cell_type": "markdown",
   "metadata": {},
   "source": [
    "# Visualize GOES-16 Data from S3"
   ]
  },
  {
   "cell_type": "markdown",
   "metadata": {},
   "source": [
    "#### This code retrieves a GOES-16 NetCDF file from the S3 bucket and visualize it. GOES makes 4 measurements in each hour, and only the first one is retrieved here. "
   ]
  },
  {
   "cell_type": "code",
   "execution_count": 1,
   "metadata": {},
   "outputs": [],
   "source": [
    "import xarray as xr\n",
    "import requests\n",
    "import netCDF4\n",
    "import boto3\n",
    "import matplotlib.pyplot as plt\n",
    "%matplotlib inline\n",
    "\n",
    "from modules.GOESR_functions import get_s3_keys"
   ]
  },
  {
   "cell_type": "code",
   "execution_count": 2,
   "metadata": {},
   "outputs": [],
   "source": [
    "bucket_name = 'noaa-goes16'\n",
    "product_name = 'ABI-L1b-RadF'\n",
    "year = 2019\n",
    "day_of_year = 79\n",
    "hour = 12\n",
    "band = 3"
   ]
  },
  {
   "cell_type": "code",
   "execution_count": 3,
   "metadata": {},
   "outputs": [],
   "source": [
    "keys = get_s3_keys(bucket_name, prefix = product_name+'/'+ \n",
    "                                         str(year) + '/' + str(day_of_year).zfill(3) \n",
    "                                         + '/' + str(hour).zfill(2) + '/OR_'+ \n",
    "                                         product_name + '-M3C' + str(band).zfill(2))\n",
    "\n",
    "key = [key for key in keys][0] # selecting the first measurement taken within the hour"
   ]
  },
  {
   "cell_type": "code",
   "execution_count": 4,
   "metadata": {},
   "outputs": [],
   "source": [
    "resp = requests.get('https://' + bucket_name + '.s3.amazonaws.com/' + key)"
   ]
  },
  {
   "cell_type": "code",
   "execution_count": null,
   "metadata": {},
   "outputs": [],
   "source": [
    "file_name = key.split('/')[-1].split('.')[0]\n",
    "nc4_ds = netCDF4.Dataset(file_name, memory = resp.content)\n",
    "store = xr.backends.NetCDF4DataStore(nc4_ds)\n",
    "DS = xr.open_dataset(store)"
   ]
  },
  {
   "cell_type": "code",
   "execution_count": null,
   "metadata": {},
   "outputs": [],
   "source": [
    "fig = plt.figure(figsize=(12, 12))\n",
    "plt.imshow(DS.Rad, cmap='gray')\n",
    "plt.axis('off')\n",
    "plt.savefig(file_name + '.png', dpi=300, facecolor='w', edgecolor='w')"
   ]
  }
 ],
 "metadata": {
  "kernelspec": {
   "display_name": "Python 3",
   "language": "python",
   "name": "python3"
  },
  "language_info": {
   "codemirror_mode": {
    "name": "ipython",
    "version": 3
   },
   "file_extension": ".py",
   "mimetype": "text/x-python",
   "name": "python",
   "nbconvert_exporter": "python",
   "pygments_lexer": "ipython3",
   "version": "3.7.3"
  }
 },
 "nbformat": 4,
 "nbformat_minor": 2
}
